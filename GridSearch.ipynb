{
  "nbformat": 4,
  "nbformat_minor": 0,
  "metadata": {
    "colab": {
      "name": "Untitled2.ipynb",
      "provenance": [],
      "collapsed_sections": [],
      "authorship_tag": "ABX9TyMFoVYr1GTFpC041D2GTj/T",
      "include_colab_link": true
    },
    "kernelspec": {
      "name": "python3",
      "display_name": "Python 3"
    },
    "language_info": {
      "name": "python"
    }
  },
  "cells": [
    {
      "cell_type": "markdown",
      "metadata": {
        "id": "view-in-github",
        "colab_type": "text"
      },
      "source": [
        "<a href=\"https://colab.research.google.com/github/dodozaki/Machine-Learning/blob/main/GridSearch.ipynb\" target=\"_parent\"><img src=\"https://colab.research.google.com/assets/colab-badge.svg\" alt=\"Open In Colab\"/></a>"
      ]
    },
    {
      "cell_type": "code",
      "metadata": {
        "id": "sjdVfSSXqT3T"
      },
      "source": [
        "import sys\n",
        "import urllib.request\n",
        "import os\n",
        "\n",
        "\n",
        "\n",
        "%matplotlib inline\n",
        "import matplotlib as mpl\n",
        "import matplotlib.pyplot as plt\n",
        "\n",
        "import sklearn\n",
        "from sklearn.preprocessing import PolynomialFeatures\n",
        "\n",
        "from sklearn.pipeline import Pipeline\n",
        "\n",
        "import pandas as pd\n",
        "import numpy as np\n",
        "from sklearn import datasets\n",
        "from sklearn.preprocessing import StandardScaler\n",
        "from sklearn.model_selection import train_test_split\n",
        "from sklearn.pipeline import make_pipeline\n",
        "from sklearn.model_selection import GridSearchCV\n",
        "from sklearn.svm import SVC\n",
        "from sklearn.linear_model import LogisticRegression\n",
        "from sklearn.ensemble import RandomForestClassifier"
      ],
      "execution_count": 9,
      "outputs": []
    },
    {
      "cell_type": "code",
      "metadata": {
        "colab": {
          "base_uri": "https://localhost:8080/"
        },
        "id": "nOjYNupiqeBN",
        "outputId": "3771e794-c53b-4c9a-e09a-4bedea109054"
      },
      "source": [
        "import urllib.request\n",
        "data_path = os.path.join(\"datasets\", \"\")\n",
        "download_path = \"https://raw.githubusercontent.com/AbdelMahm/FSR/master/IDDLO-29-20/Notebooks/datasets/\"\n",
        "os.makedirs(data_path, exist_ok=True)\n",
        "for filename in (\"log_reg_data1.csv\", \"log_reg_data2.csv\"):\n",
        "    print(\"Downloading\", filename)\n",
        "    url = download_path + filename\n",
        "    urllib.request.urlretrieve(url, data_path + filename)"
      ],
      "execution_count": 3,
      "outputs": [
        {
          "output_type": "stream",
          "name": "stdout",
          "text": [
            "Downloading log_reg_data1.csv\n",
            "Downloading log_reg_data2.csv\n"
          ]
        }
      ]
    },
    {
      "cell_type": "code",
      "metadata": {
        "colab": {
          "base_uri": "https://localhost:8080/",
          "height": 206
        },
        "id": "xnsLJ_-GqkIE",
        "outputId": "9316c801-a647-4ab3-efaf-728a419f9eb6"
      },
      "source": [
        "#load data\n",
        "df = pd.read_csv(data_path + '/log_reg_data1.csv')\n",
        "df.head()"
      ],
      "execution_count": 6,
      "outputs": [
        {
          "output_type": "execute_result",
          "data": {
            "text/html": [
              "<div>\n",
              "<style scoped>\n",
              "    .dataframe tbody tr th:only-of-type {\n",
              "        vertical-align: middle;\n",
              "    }\n",
              "\n",
              "    .dataframe tbody tr th {\n",
              "        vertical-align: top;\n",
              "    }\n",
              "\n",
              "    .dataframe thead th {\n",
              "        text-align: right;\n",
              "    }\n",
              "</style>\n",
              "<table border=\"1\" class=\"dataframe\">\n",
              "  <thead>\n",
              "    <tr style=\"text-align: right;\">\n",
              "      <th></th>\n",
              "      <th>studentId</th>\n",
              "      <th>score1</th>\n",
              "      <th>score2</th>\n",
              "      <th>admitted</th>\n",
              "    </tr>\n",
              "  </thead>\n",
              "  <tbody>\n",
              "    <tr>\n",
              "      <th>0</th>\n",
              "      <td>1</td>\n",
              "      <td>34.623660</td>\n",
              "      <td>78.024693</td>\n",
              "      <td>0</td>\n",
              "    </tr>\n",
              "    <tr>\n",
              "      <th>1</th>\n",
              "      <td>2</td>\n",
              "      <td>30.286711</td>\n",
              "      <td>43.894998</td>\n",
              "      <td>0</td>\n",
              "    </tr>\n",
              "    <tr>\n",
              "      <th>2</th>\n",
              "      <td>3</td>\n",
              "      <td>35.847409</td>\n",
              "      <td>72.902198</td>\n",
              "      <td>0</td>\n",
              "    </tr>\n",
              "    <tr>\n",
              "      <th>3</th>\n",
              "      <td>4</td>\n",
              "      <td>60.182599</td>\n",
              "      <td>86.308552</td>\n",
              "      <td>1</td>\n",
              "    </tr>\n",
              "    <tr>\n",
              "      <th>4</th>\n",
              "      <td>5</td>\n",
              "      <td>79.032736</td>\n",
              "      <td>75.344376</td>\n",
              "      <td>1</td>\n",
              "    </tr>\n",
              "  </tbody>\n",
              "</table>\n",
              "</div>"
            ],
            "text/plain": [
              "   studentId     score1     score2  admitted\n",
              "0          1  34.623660  78.024693         0\n",
              "1          2  30.286711  43.894998         0\n",
              "2          3  35.847409  72.902198         0\n",
              "3          4  60.182599  86.308552         1\n",
              "4          5  79.032736  75.344376         1"
            ]
          },
          "metadata": {},
          "execution_count": 6
        }
      ]
    },
    {
      "cell_type": "code",
      "metadata": {
        "id": "5rT-4HUuqpVH"
      },
      "source": [
        "#try GridSearch and Randomised Search\n",
        "x = df.drop(['admitted'],axis=1).values\n",
        "y = df['admitted'].values\n",
        "\n",
        "X_train, X_test, y_train, y_test = train_test_split(x, y, test_size=0.3, random_state=1, stratify=y)"
      ],
      "execution_count": 10,
      "outputs": []
    },
    {
      "cell_type": "code",
      "metadata": {
        "id": "xtTYkbZU46Ar"
      },
      "source": [
        "from sklearn.preprocessing import StandardScaler\n",
        "feature_scaler = StandardScaler()\n",
        "X_train = feature_scaler.fit_transform(X_train)\n",
        "X_test = feature_scaler.transform(X_test)"
      ],
      "execution_count": 12,
      "outputs": []
    },
    {
      "cell_type": "code",
      "metadata": {
        "id": "vGfpUWzQ5SEb"
      },
      "source": [
        "from sklearn.ensemble import RandomForestClassifier\n",
        "classifier = RandomForestClassifier(n_estimators=300, random_state=0)\n"
      ],
      "execution_count": 13,
      "outputs": []
    },
    {
      "cell_type": "markdown",
      "metadata": {
        "id": "EgENIHmsz10h"
      },
      "source": [
        "**Grid Search and Random Forest Classifier**"
      ]
    },
    {
      "cell_type": "code",
      "metadata": {
        "id": "6qC4zC-3zv9S"
      },
      "source": [
        "grid_param = {\n",
        "    'n_estimators': [100, 300, 500, 800, 1000],\n",
        "    'criterion': ['gini', 'entropy'],\n",
        "    'bootstrap': [True, False]\n",
        "}\n",
        "\n",
        "gd_sr = GridSearchCV(estimator=classifier,\n",
        "                     param_grid=grid_param,\n",
        "                     scoring='accuracy',\n",
        "                     cv=5,\n",
        "                     n_jobs=-1)\n",
        "#Ici, nous créons un dictionnaire grid_param avec trois paramètres n_estimators, critère et bootstrap. Les valeurs de paramètre\n",
        "# que nous voulons essayer sont passées dans la liste.\n",
        "# Par exemple, nous voulons trouver quelle valeur (sur 100, 300, 500, 800 et 1000) fournit la plus grande précision.\n",
        "#nous voulons trouver quelle valeur donne les performances les plus élevées pour le paramètre critère : « gini » ou « entropie » "
      ],
      "execution_count": 14,
      "outputs": []
    },
    {
      "cell_type": "code",
      "metadata": {
        "colab": {
          "base_uri": "https://localhost:8080/"
        },
        "id": "u16Fa1IQ4v00",
        "outputId": "2e86e405-02ed-4eae-b7cc-f67ac729c426"
      },
      "source": [
        "gd_sr.fit(X_train, y_train)"
      ],
      "execution_count": 15,
      "outputs": [
        {
          "output_type": "execute_result",
          "data": {
            "text/plain": [
              "GridSearchCV(cv=5,\n",
              "             estimator=RandomForestClassifier(n_estimators=300, random_state=0),\n",
              "             n_jobs=-1,\n",
              "             param_grid={'bootstrap': [True, False],\n",
              "                         'criterion': ['gini', 'entropy'],\n",
              "                         'n_estimators': [100, 300, 500, 800, 1000]},\n",
              "             scoring='accuracy')"
            ]
          },
          "metadata": {},
          "execution_count": 15
        }
      ]
    },
    {
      "cell_type": "code",
      "metadata": {
        "colab": {
          "base_uri": "https://localhost:8080/"
        },
        "id": "pIxwv9AA6BOt",
        "outputId": "9b505e0e-9e13-442f-ee9c-c0e32ce30c48"
      },
      "source": [
        "# Print the training score of the best model\n",
        "\n",
        "print('the training score of the best model',gd_sr.best_score_)\n",
        "\n",
        "# Print the model parameters of the best model\n",
        "\n",
        "print('the model parameters of the best model',gd_sr.best_params_)\n",
        "\n",
        "# Print the test score of the best model\n",
        "\n",
        "clfRFC = gd_sr.best_estimator_\n",
        "print('Test accuracy: %.3f' % clfRFC.score(X_test, y_test))"
      ],
      "execution_count": 20,
      "outputs": [
        {
          "output_type": "stream",
          "name": "stdout",
          "text": [
            "the training score of the best model 0.9285714285714286\n",
            "the model parameters of the best model {'bootstrap': True, 'criterion': 'gini', 'n_estimators': 100}\n",
            "Test accuracy: 0.900\n"
          ]
        }
      ]
    },
    {
      "cell_type": "markdown",
      "metadata": {
        "id": "Q5iWyF168urN"
      },
      "source": [
        "**Le résultat montre que la précision la plus élevée est obtenue lorsque les n_estimateurs valent 100, le bootstrap est True et le critère est \"gini\".**"
      ]
    },
    {
      "cell_type": "markdown",
      "metadata": {
        "id": "j4iqNZoG9R5o"
      },
      "source": [
        "**Grid Search and Logistic Regression**"
      ]
    },
    {
      "cell_type": "code",
      "metadata": {
        "colab": {
          "base_uri": "https://localhost:8080/"
        },
        "id": "fqvzk8XH9Vog",
        "outputId": "62c6ca21-13eb-4493-eff3-d18aad460769"
      },
      "source": [
        "pipelineLR = make_pipeline(StandardScaler(), LogisticRegression(random_state=1, penalty='l2', solver='lbfgs'))\n",
        "#\n",
        "# Create the parameter grid\n",
        "#\n",
        "param_grid_lr = [{\n",
        "    'logisticregression__C': [0.001, 0.01, 0.05, 0.1, 0.5, 1.0, 10.0],\n",
        "}]\n",
        "#\n",
        "# Create an instance of GridSearch Cross-validation estimator\n",
        "#\n",
        "gsLR = GridSearchCV(estimator=pipelineLR,\n",
        "                     param_grid = param_grid_lr,\n",
        "                     scoring='accuracy',\n",
        "                     cv=10,\n",
        "                     refit=True,\n",
        "                     n_jobs=1)\n",
        "\n",
        "\n",
        "# Train the LogisticRegression Classifier\n",
        "\n",
        "gsLR = gsLR.fit(X_train, y_train)\n",
        "\n",
        "# Print the training score of the best model\n",
        "\n",
        "print('the training score of the best model',gsLR.best_score_)\n",
        "\n",
        "# Print the model parameters of the best model\n",
        "\n",
        "print('the model parameters of the best model',gsLR.best_params_)\n",
        "\n",
        "# Print the test score of the best model\n",
        "\n",
        "clfLR = gsLR.best_estimator_\n",
        "print('Test accuracy: %.3f' % clfLR.score(X_test, y_test))"
      ],
      "execution_count": 23,
      "outputs": [
        {
          "output_type": "stream",
          "name": "stdout",
          "text": [
            "the training score of the best model 0.9\n",
            "the model parameters of the best model {'logisticregression__C': 0.1}\n",
            "Test accuracy: 0.867\n"
          ]
        }
      ]
    },
    {
      "cell_type": "markdown",
      "metadata": {
        "id": "3KDOPzeQA6Vp"
      },
      "source": [
        "**Grid Search and Support Vector Classifier (SVC)**"
      ]
    },
    {
      "cell_type": "code",
      "metadata": {
        "colab": {
          "base_uri": "https://localhost:8080/"
        },
        "id": "XnAmGqLbBUCW",
        "outputId": "2f68b9b1-87fa-46cd-fc61-1ecfb4d48b98"
      },
      "source": [
        "pipelineSVC = make_pipeline(StandardScaler(), SVC(random_state=1))\n",
        "\n",
        "# Create the parameter grid\n",
        "\n",
        "param_grid_svc = [{\n",
        "                    'svc__C': [0.001, 0.01, 0.05, 0.1, 0.5, 1.0, 10.0],\n",
        "                    'svc__kernel': ['linear']\n",
        "                  },\n",
        "                 {\n",
        "                    'svc__C': [0.001, 0.01, 0.05, 0.1, 0.5, 1.0, 10.0],\n",
        "                    'svc__gamma': [0.001, 0.01, 0.05, 0.1, 0.5, 1.0, 10.0],\n",
        "                    'svc__kernel': ['rbf']\n",
        "                 }]\n",
        "\n",
        "# Create an instance of GridSearch Cross-validation estimator\n",
        "\n",
        "gsSVC = GridSearchCV(estimator=pipelineSVC,\n",
        "                     param_grid = param_grid_svc,\n",
        "                     scoring='accuracy',\n",
        "                     cv=10,\n",
        "                     refit=True,\n",
        "                     n_jobs=1)\n",
        "\n",
        "# Train the SVM classifier\n",
        "\n",
        "gsSVC.fit(X_train, y_train)\n",
        "\n",
        "# Print the training score of the best model\n",
        "\n",
        "print('the training score of the best model',gsSVC.best_score_)\n",
        "\n",
        "# Print the model parameters of the best model\n",
        "\n",
        "print('the model parameters of the best model',gsSVC.best_params_)\n",
        "\n",
        "# Print the model score on the test data using GridSearchCV score method\n",
        "\n",
        "print('Test accuracy: %.3f' % gsSVC.score(X_test, y_test))\n",
        "\n"
      ],
      "execution_count": 25,
      "outputs": [
        {
          "output_type": "stream",
          "name": "stdout",
          "text": [
            "the training score of the best model 0.9285714285714286\n",
            "the model parameters of the best model {'svc__C': 10.0, 'svc__gamma': 0.05, 'svc__kernel': 'rbf'}\n",
            "Test accuracy: 0.900\n"
          ]
        }
      ]
    }
  ]
}