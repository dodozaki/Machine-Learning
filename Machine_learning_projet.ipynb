{
  "nbformat": 4,
  "nbformat_minor": 0,
  "metadata": {
    "colab": {
      "name": "Machine learning projet.ipynb",
      "provenance": [],
      "authorship_tag": "ABX9TyPniOiXHwOAlGb4bLDVxqFm",
      "include_colab_link": true
    },
    "kernelspec": {
      "name": "python3",
      "display_name": "Python 3"
    },
    "language_info": {
      "name": "python"
    }
  },
  "cells": [
    {
      "cell_type": "markdown",
      "metadata": {
        "id": "view-in-github",
        "colab_type": "text"
      },
      "source": [
        "<a href=\"https://colab.research.google.com/github/dodozaki/Machine-Learning/blob/main/Machine_learning_projet.ipynb\" target=\"_parent\"><img src=\"https://colab.research.google.com/assets/colab-badge.svg\" alt=\"Open In Colab\"/></a>"
      ]
    },
    {
      "cell_type": "code",
      "metadata": {
        "id": "0zxAFNobiaxa"
      },
      "source": [
        "import pandas as pd\n",
        "import numpy as np\n",
        "import statsmodels.api as sm\n",
        "import scipy.stats as st\n",
        "import matplotlib.pyplot as plt\n",
        "import seaborn as sn\n",
        "import seaborn as sns\n",
        "from sklearn.metrics import confusion_matrix\n",
        "import matplotlib.mlab as mlab\n",
        "import sklearn\n",
        "from sklearn.linear_model import LogisticRegression\n",
        "from statsmodels.tools import add_constant as add_constant\n",
        "import sklearn\n",
        "from sklearn.model_selection import train_test_split\n",
        "from sklearn.linear_model import LogisticRegression\n",
        "%matplotlib inline"
      ],
      "execution_count": 29,
      "outputs": []
    },
    {
      "cell_type": "markdown",
      "metadata": {
        "id": "7punpk8Twk2j"
      },
      "source": [
        ""
      ]
    },
    {
      "cell_type": "markdown",
      "metadata": {
        "id": "WrWeCxUywk4m"
      },
      "source": [
        "exploitation des données"
      ]
    },
    {
      "cell_type": "code",
      "metadata": {
        "colab": {
          "base_uri": "https://localhost:8080/"
        },
        "id": "6cyr8oBjjZE8",
        "outputId": "e42af9ad-c1af-45f9-d818-dc6f67f1744e"
      },
      "source": [
        "from google.colab import drive\n",
        "drive.mount('/content/drive')"
      ],
      "execution_count": 1,
      "outputs": [
        {
          "output_type": "stream",
          "name": "stdout",
          "text": [
            "Mounted at /content/drive\n"
          ]
        }
      ]
    },
    {
      "cell_type": "code",
      "metadata": {
        "id": "tW_XDEgkYDoI"
      },
      "source": [
        "path='/content/drive/MyDrive/heart1.csv'\n",
        "data_heart=pd.read_csv(path)"
      ],
      "execution_count": 2,
      "outputs": []
    },
    {
      "cell_type": "code",
      "metadata": {
        "colab": {
          "base_uri": "https://localhost:8080/"
        },
        "id": "M1TlX0DHuYs5",
        "outputId": "09153aa1-5327-4430-f58c-523efceafedb"
      },
      "source": [
        "data_heart.describe"
      ],
      "execution_count": 4,
      "outputs": [
        {
          "output_type": "execute_result",
          "data": {
            "text/plain": [
              "<bound method NDFrame.describe of       male  age  education  ...  heartRate  glucose  TenYearCHD\n",
              "0        1   39        4.0  ...       80.0     77.0           0\n",
              "1        0   46        2.0  ...       95.0     76.0           0\n",
              "2        1   48        1.0  ...       75.0     70.0           0\n",
              "3        0   61        3.0  ...       65.0    103.0           1\n",
              "4        0   46        3.0  ...       85.0     85.0           0\n",
              "...    ...  ...        ...  ...        ...      ...         ...\n",
              "4233     1   50        1.0  ...       66.0     86.0           1\n",
              "4234     1   51        3.0  ...       65.0     68.0           0\n",
              "4235     0   48        2.0  ...       84.0     86.0           0\n",
              "4236     0   44        1.0  ...       86.0      NaN           0\n",
              "4237     0   52        2.0  ...       80.0    107.0           0\n",
              "\n",
              "[4238 rows x 16 columns]>"
            ]
          },
          "metadata": {},
          "execution_count": 4
        }
      ]
    },
    {
      "cell_type": "code",
      "metadata": {
        "colab": {
          "base_uri": "https://localhost:8080/"
        },
        "id": "YOsEey16uhYi",
        "outputId": "8b4d0c0e-a52e-495d-de2f-b46759a70605"
      },
      "source": [
        "data_heart.shape"
      ],
      "execution_count": 6,
      "outputs": [
        {
          "output_type": "execute_result",
          "data": {
            "text/plain": [
              "(4238, 16)"
            ]
          },
          "metadata": {},
          "execution_count": 6
        }
      ]
    },
    {
      "cell_type": "code",
      "metadata": {
        "colab": {
          "base_uri": "https://localhost:8080/"
        },
        "id": "86rxGiZ3wJCY",
        "outputId": "56e09a19-f607-46fd-e66a-dded71463906"
      },
      "source": [
        "data_heart.head"
      ],
      "execution_count": 7,
      "outputs": [
        {
          "output_type": "execute_result",
          "data": {
            "text/plain": [
              "<bound method NDFrame.head of       male  age  education  ...  heartRate  glucose  TenYearCHD\n",
              "0        1   39        4.0  ...       80.0     77.0           0\n",
              "1        0   46        2.0  ...       95.0     76.0           0\n",
              "2        1   48        1.0  ...       75.0     70.0           0\n",
              "3        0   61        3.0  ...       65.0    103.0           1\n",
              "4        0   46        3.0  ...       85.0     85.0           0\n",
              "...    ...  ...        ...  ...        ...      ...         ...\n",
              "4233     1   50        1.0  ...       66.0     86.0           1\n",
              "4234     1   51        3.0  ...       65.0     68.0           0\n",
              "4235     0   48        2.0  ...       84.0     86.0           0\n",
              "4236     0   44        1.0  ...       86.0      NaN           0\n",
              "4237     0   52        2.0  ...       80.0    107.0           0\n",
              "\n",
              "[4238 rows x 16 columns]>"
            ]
          },
          "metadata": {},
          "execution_count": 7
        }
      ]
    },
    {
      "cell_type": "markdown",
      "metadata": {
        "id": "ezewDSxyw89-"
      },
      "source": [
        "valeur **manquante** \n",
        "\n",
        "\n"
      ]
    },
    {
      "cell_type": "code",
      "metadata": {
        "colab": {
          "base_uri": "https://localhost:8080/"
        },
        "id": "iOudiyn_wNvz",
        "outputId": "9d672f28-f9ce-4d10-ae3d-4e3c00007254"
      },
      "source": [
        "data_heart.isnull().sum()"
      ],
      "execution_count": 8,
      "outputs": [
        {
          "output_type": "execute_result",
          "data": {
            "text/plain": [
              "male                 0\n",
              "age                  0\n",
              "education          105\n",
              "currentSmoker        0\n",
              "cigsPerDay          29\n",
              "BPMeds              53\n",
              "prevalentStroke      0\n",
              "prevalentHyp         0\n",
              "diabetes             0\n",
              "totChol             50\n",
              "sysBP                0\n",
              "diaBP                0\n",
              "BMI                 19\n",
              "heartRate            1\n",
              "glucose            388\n",
              "TenYearCHD           0\n",
              "dtype: int64"
            ]
          },
          "metadata": {},
          "execution_count": 8
        }
      ]
    },
    {
      "cell_type": "code",
      "metadata": {
        "id": "T1gLxL1XwU_Y"
      },
      "source": [
        "data_heart.dropna(axis=0,inplace=True)"
      ],
      "execution_count": 9,
      "outputs": []
    },
    {
      "cell_type": "markdown",
      "metadata": {
        "id": "vSlrHc7vxFTl"
      },
      "source": [
        "**la relation entre les features**\n"
      ]
    },
    {
      "cell_type": "code",
      "metadata": {
        "colab": {
          "base_uri": "https://localhost:8080/",
          "height": 1000
        },
        "id": "-c2zvHOqwfbH",
        "outputId": "8e36deb7-a387-4287-b91a-5423c4610c07"
      },
      "source": [
        "def draw_histograms(dataframe, features, rows, cols):\n",
        "    fig=plt.figure(figsize=(20,20))\n",
        "    for i, feature in enumerate(features):\n",
        "        ax=fig.add_subplot(rows,cols,i+1)\n",
        "        dataframe[feature].hist(bins=20,ax=ax,facecolor='midnightblue')\n",
        "        ax.set_title(feature+\" Distribution\",color='DarkRed')\n",
        "        \n",
        "    fig.tight_layout()  \n",
        "    plt.show()\n",
        "draw_histograms(data_heart,data_heart.columns,6,3)"
      ],
      "execution_count": 11,
      "outputs": [
        {
          "output_type": "display_data",
          "data": {
            "image/png": "[encoded data removed]",
            "text/plain": [
              "<Figure size 1440x1440 with 16 Axes>"
            ]
          },
          "metadata": {
            "needs_background": "light"
          }
        }
      ]
    },
    {
      "cell_type": "code",
      "metadata": {
        "colab": {
          "base_uri": "https://localhost:8080/",
          "height": 330
        },
        "id": "qCaSFTNOxuQb",
        "outputId": "b0d528c2-decc-43cf-bef1-1bdccc96db0d"
      },
      "source": [
        "sn.countplot(x='TenYearCHD',data=data_heart)\n",
        "\n",
        "data_heart.TenYearCHD.value_counts()"
      ],
      "execution_count": 13,
      "outputs": [
        {
          "output_type": "execute_result",
          "data": {
            "text/plain": [
              "0    3099\n",
              "1     557\n",
              "Name: TenYearCHD, dtype: int64"
            ]
          },
          "metadata": {},
          "execution_count": 13
        },
        {
          "output_type": "display_data",
          "data": {
            "image/png": "[encoded data removed]",
            "text/plain": [
              "<Figure size 432x288 with 1 Axes>"
            ]
          },
          "metadata": {
            "needs_background": "light"
          }
        }
      ]
    },
    {
      "cell_type": "code",
      "metadata": {
        "colab": {
          "base_uri": "https://localhost:8080/",
          "height": 296
        },
        "id": "qevP-BxJz6Rp",
        "outputId": "40a6628c-07a5-4bd5-e414-730529f01074"
      },
      "source": [
        "data = data_heart.copy()\n",
        "data['male']  = data['male'].replace({0: 'female', 1:'male'})\n",
        "data = data.rename(columns={'male':'gender'})\n",
        "sns.countplot(data=data, x='gender', hue='TenYearCHD')"
      ],
      "execution_count": 14,
      "outputs": [
        {
          "output_type": "execute_result",
          "data": {
            "text/plain": [
              "<matplotlib.axes._subplots.AxesSubplot at 0x7f45c6f15550>"
            ]
          },
          "metadata": {},
          "execution_count": 14
        },
        {
          "output_type": "display_data",
          "data": {
            "image/png": "[encoded data removed]",
            "text/plain": [
              "<Figure size 432x288 with 1 Axes>"
            ]
          },
          "metadata": {
            "needs_background": "light"
          }
        }
      ]
    },
    {
      "cell_type": "code",
      "metadata": {
        "colab": {
          "base_uri": "https://localhost:8080/",
          "height": 296
        },
        "id": "74OwwsFs0OWe",
        "outputId": "761d06dd-0ab1-4f9e-cbf5-0ca52df52bdf"
      },
      "source": [
        "data['diabetes']  = data['diabetes'].replace({0: 'no', 1:'yes'})\n",
        "sns.countplot(data=data, x='diabetes', hue='TenYearCHD')"
      ],
      "execution_count": 15,
      "outputs": [
        {
          "output_type": "execute_result",
          "data": {
            "text/plain": [
              "<matplotlib.axes._subplots.AxesSubplot at 0x7f45c6ed1650>"
            ]
          },
          "metadata": {},
          "execution_count": 15
        },
        {
          "output_type": "display_data",
          "data": {
            "image/png": "[encoded data removed]",
            "text/plain": [
              "<Figure size 432x288 with 1 Axes>"
            ]
          },
          "metadata": {
            "needs_background": "light"
          }
        }
      ]
    },
    {
      "cell_type": "code",
      "metadata": {
        "colab": {
          "base_uri": "https://localhost:8080/",
          "height": 296
        },
        "id": "x51Nzetv0U_s",
        "outputId": "d7f94ef3-f223-42d1-e48c-9de29f4c99b1"
      },
      "source": [
        "data['currentSmoker']  = data['currentSmoker'].replace({0: 'no', 1:'yes'})\n",
        "sns.countplot(data=data, x='currentSmoker', hue='TenYearCHD')"
      ],
      "execution_count": 16,
      "outputs": [
        {
          "output_type": "execute_result",
          "data": {
            "text/plain": [
              "<matplotlib.axes._subplots.AxesSubplot at 0x7f45c6ef2390>"
            ]
          },
          "metadata": {},
          "execution_count": 16
        },
        {
          "output_type": "display_data",
          "data": {
            "image/png": "[encoded data removed]",
            "text/plain": [
              "<Figure size 432x288 with 1 Axes>"
            ]
          },
          "metadata": {
            "needs_background": "light"
          }
        }
      ]
    },
    {
      "cell_type": "code",
      "metadata": {
        "colab": {
          "base_uri": "https://localhost:8080/",
          "height": 296
        },
        "id": "21Jik7GZ0cJO",
        "outputId": "96da98e4-5412-444e-fa5a-fbc5863e30b3"
      },
      "source": [
        "bins= [30,40,50,60,75]\n",
        "labels = ['thirties','forties','fifties','sixties']\n",
        "\n",
        "data['Age_group'] = pd.cut(data['age'], bins=bins, labels=labels, right=False)\n",
        "\n",
        "sns.countplot(data=data, x='Age_group', hue='TenYearCHD')\n",
        "\n",
        "bins = [0, 10, 20, 30, 40, 50, 60, 70, 80]\n",
        "labels = ['0', '1-10', '11-20', '21-30', '31-40', '41-50', '51-60', '61-70']\n",
        "\n",
        "data['cigsPerDay '] = pd.cut(data['cigsPerDay'], bins=bins, labels=labels, right=False)\n",
        "\n",
        "sns.countplot(data=data, x='cigsPerDay ', hue='TenYearCHD')"
      ],
      "execution_count": 17,
      "outputs": [
        {
          "output_type": "execute_result",
          "data": {
            "text/plain": [
              "<matplotlib.axes._subplots.AxesSubplot at 0x7f45c6e35b10>"
            ]
          },
          "metadata": {},
          "execution_count": 17
        },
        {
          "output_type": "display_data",
          "data": {
            "image/png": "[encoded data removed]",
            "text/plain": [
              "<Figure size 432x288 with 1 Axes>"
            ]
          },
          "metadata": {
            "needs_background": "light"
          }
        }
      ]
    },
    {
      "cell_type": "code",
      "metadata": {
        "colab": {
          "base_uri": "https://localhost:8080/"
        },
        "id": "gE-wX4B00137",
        "outputId": "4d4e3956-f5a0-414d-bd58-8494791aeb8d"
      },
      "source": [
        "data_heart_constant = add_constant(data_heart)\n",
        "data_heart_constant.head"
      ],
      "execution_count": 19,
      "outputs": [
        {
          "output_type": "execute_result",
          "data": {
            "text/plain": [
              "<bound method NDFrame.head of       const  male  age  education  ...    BMI  heartRate  glucose  TenYearCHD\n",
              "0       1.0     1   39        4.0  ...  26.97       80.0     77.0           0\n",
              "1       1.0     0   46        2.0  ...  28.73       95.0     76.0           0\n",
              "2       1.0     1   48        1.0  ...  25.34       75.0     70.0           0\n",
              "3       1.0     0   61        3.0  ...  28.58       65.0    103.0           1\n",
              "4       1.0     0   46        3.0  ...  23.10       85.0     85.0           0\n",
              "...     ...   ...  ...        ...  ...    ...        ...      ...         ...\n",
              "4231    1.0     1   58        3.0  ...  24.96       80.0     81.0           0\n",
              "4232    1.0     1   68        1.0  ...  23.14       60.0     79.0           1\n",
              "4233    1.0     1   50        1.0  ...  25.97       66.0     86.0           1\n",
              "4234    1.0     1   51        3.0  ...  19.71       65.0     68.0           0\n",
              "4237    1.0     0   52        2.0  ...  21.47       80.0    107.0           0\n",
              "\n",
              "[3656 rows x 17 columns]>"
            ]
          },
          "metadata": {},
          "execution_count": 19
        }
      ]
    },
    {
      "cell_type": "code",
      "metadata": {
        "colab": {
          "base_uri": "https://localhost:8080/",
          "height": 593
        },
        "id": "vIriK_o32XfJ",
        "outputId": "f2e89018-f8ec-4070-ade3-c1a8d9a9c757"
      },
      "source": [
        "st.chisqprob = lambda chisq, df: st.chi2.sf(chisq, df)\n",
        "cols=data_heart_constant.columns[:-1]\n",
        "model=sm.Logit(data_heart.TenYearCHD,data_heart_constant[cols])\n",
        "result=model.fit()\n",
        "result.summary()"
      ],
      "execution_count": 20,
      "outputs": [
        {
          "output_type": "stream",
          "name": "stdout",
          "text": [
            "Optimization terminated successfully.\n",
            "         Current function value: 0.376668\n",
            "         Iterations 7\n"
          ]
        },
        {
          "output_type": "execute_result",
          "data": {
            "text/html": [
              "<table class=\"simpletable\">\n",
              "<caption>Logit Regression Results</caption>\n",
              "<tr>\n",
              "  <th>Dep. Variable:</th>      <td>TenYearCHD</td>    <th>  No. Observations:  </th>  <td>  3656</td>  \n",
              "</tr>\n",
              "<tr>\n",
              "  <th>Model:</th>                 <td>Logit</td>      <th>  Df Residuals:      </th>  <td>  3640</td>  \n",
              "</tr>\n",
              "<tr>\n",
              "  <th>Method:</th>                 <td>MLE</td>       <th>  Df Model:          </th>  <td>    15</td>  \n",
              "</tr>\n",
              "<tr>\n",
              "  <th>Date:</th>            <td>Wed, 17 Nov 2021</td> <th>  Pseudo R-squ.:     </th>  <td>0.1174</td>  \n",
              "</tr>\n",
              "<tr>\n",
              "  <th>Time:</th>                <td>21:43:08</td>     <th>  Log-Likelihood:    </th> <td> -1377.1</td> \n",
              "</tr>\n",
              "<tr>\n",
              "  <th>converged:</th>             <td>True</td>       <th>  LL-Null:           </th> <td> -1560.3</td> \n",
              "</tr>\n",
              "<tr>\n",
              "  <th>Covariance Type:</th>     <td>nonrobust</td>    <th>  LLR p-value:       </th> <td>8.027e-69</td>\n",
              "</tr>\n",
              "</table>\n",
              "<table class=\"simpletable\">\n",
              "<tr>\n",
              "         <td></td>            <th>coef</th>     <th>std err</th>      <th>z</th>      <th>P>|z|</th>  <th>[0.025</th>    <th>0.975]</th>  \n",
              "</tr>\n",
              "<tr>\n",
              "  <th>const</th>           <td>   -8.3222</td> <td>    0.715</td> <td>  -11.632</td> <td> 0.000</td> <td>   -9.725</td> <td>   -6.920</td>\n",
              "</tr>\n",
              "<tr>\n",
              "  <th>male</th>            <td>    0.5551</td> <td>    0.109</td> <td>    5.090</td> <td> 0.000</td> <td>    0.341</td> <td>    0.769</td>\n",
              "</tr>\n",
              "<tr>\n",
              "  <th>age</th>             <td>    0.0635</td> <td>    0.007</td> <td>    9.499</td> <td> 0.000</td> <td>    0.050</td> <td>    0.077</td>\n",
              "</tr>\n",
              "<tr>\n",
              "  <th>education</th>       <td>   -0.0475</td> <td>    0.049</td> <td>   -0.962</td> <td> 0.336</td> <td>   -0.144</td> <td>    0.049</td>\n",
              "</tr>\n",
              "<tr>\n",
              "  <th>currentSmoker</th>   <td>    0.0709</td> <td>    0.157</td> <td>    0.452</td> <td> 0.651</td> <td>   -0.236</td> <td>    0.378</td>\n",
              "</tr>\n",
              "<tr>\n",
              "  <th>cigsPerDay</th>      <td>    0.0179</td> <td>    0.006</td> <td>    2.874</td> <td> 0.004</td> <td>    0.006</td> <td>    0.030</td>\n",
              "</tr>\n",
              "<tr>\n",
              "  <th>BPMeds</th>          <td>    0.1623</td> <td>    0.234</td> <td>    0.692</td> <td> 0.489</td> <td>   -0.297</td> <td>    0.621</td>\n",
              "</tr>\n",
              "<tr>\n",
              "  <th>prevalentStroke</th> <td>    0.6935</td> <td>    0.490</td> <td>    1.417</td> <td> 0.157</td> <td>   -0.266</td> <td>    1.653</td>\n",
              "</tr>\n",
              "<tr>\n",
              "  <th>prevalentHyp</th>    <td>    0.2346</td> <td>    0.138</td> <td>    1.700</td> <td> 0.089</td> <td>   -0.036</td> <td>    0.505</td>\n",
              "</tr>\n",
              "<tr>\n",
              "  <th>diabetes</th>        <td>    0.0395</td> <td>    0.315</td> <td>    0.125</td> <td> 0.900</td> <td>   -0.579</td> <td>    0.658</td>\n",
              "</tr>\n",
              "<tr>\n",
              "  <th>totChol</th>         <td>    0.0023</td> <td>    0.001</td> <td>    2.062</td> <td> 0.039</td> <td>    0.000</td> <td>    0.005</td>\n",
              "</tr>\n",
              "<tr>\n",
              "  <th>sysBP</th>           <td>    0.0154</td> <td>    0.004</td> <td>    4.043</td> <td> 0.000</td> <td>    0.008</td> <td>    0.023</td>\n",
              "</tr>\n",
              "<tr>\n",
              "  <th>diaBP</th>           <td>   -0.0041</td> <td>    0.006</td> <td>   -0.642</td> <td> 0.521</td> <td>   -0.017</td> <td>    0.008</td>\n",
              "</tr>\n",
              "<tr>\n",
              "  <th>BMI</th>             <td>    0.0066</td> <td>    0.013</td> <td>    0.518</td> <td> 0.605</td> <td>   -0.018</td> <td>    0.032</td>\n",
              "</tr>\n",
              "<tr>\n",
              "  <th>heartRate</th>       <td>   -0.0032</td> <td>    0.004</td> <td>   -0.772</td> <td> 0.440</td> <td>   -0.012</td> <td>    0.005</td>\n",
              "</tr>\n",
              "<tr>\n",
              "  <th>glucose</th>         <td>    0.0071</td> <td>    0.002</td> <td>    3.189</td> <td> 0.001</td> <td>    0.003</td> <td>    0.012</td>\n",
              "</tr>\n",
              "</table>"
            ],
            "text/plain": [
              "<class 'statsmodels.iolib.summary.Summary'>\n",
              "\"\"\"\n",
              "                           Logit Regression Results                           \n",
              "==============================================================================\n",
              "Dep. Variable:             TenYearCHD   No. Observations:                 3656\n",
              "Model:                          Logit   Df Residuals:                     3640\n",
              "Method:                           MLE   Df Model:                           15\n",
              "Date:                Wed, 17 Nov 2021   Pseudo R-squ.:                  0.1174\n",
              "Time:                        21:43:08   Log-Likelihood:                -1377.1\n",
              "converged:                       True   LL-Null:                       -1560.3\n",
              "Covariance Type:            nonrobust   LLR p-value:                 8.027e-69\n",
              "===================================================================================\n",
              "                      coef    std err          z      P>|z|      [0.025      0.975]\n",
              "-----------------------------------------------------------------------------------\n",
              "const              -8.3222      0.715    -11.632      0.000      -9.725      -6.920\n",
              "male                0.5551      0.109      5.090      0.000       0.341       0.769\n",
              "age                 0.0635      0.007      9.499      0.000       0.050       0.077\n",
              "education          -0.0475      0.049     -0.962      0.336      -0.144       0.049\n",
              "currentSmoker       0.0709      0.157      0.452      0.651      -0.236       0.378\n",
              "cigsPerDay          0.0179      0.006      2.874      0.004       0.006       0.030\n",
              "BPMeds              0.1623      0.234      0.692      0.489      -0.297       0.621\n",
              "prevalentStroke     0.6935      0.490      1.417      0.157      -0.266       1.653\n",
              "prevalentHyp        0.2346      0.138      1.700      0.089      -0.036       0.505\n",
              "diabetes            0.0395      0.315      0.125      0.900      -0.579       0.658\n",
              "totChol             0.0023      0.001      2.062      0.039       0.000       0.005\n",
              "sysBP               0.0154      0.004      4.043      0.000       0.008       0.023\n",
              "diaBP              -0.0041      0.006     -0.642      0.521      -0.017       0.008\n",
              "BMI                 0.0066      0.013      0.518      0.605      -0.018       0.032\n",
              "heartRate          -0.0032      0.004     -0.772      0.440      -0.012       0.005\n",
              "glucose             0.0071      0.002      3.189      0.001       0.003       0.012\n",
              "===================================================================================\n",
              "\"\"\""
            ]
          },
          "metadata": {},
          "execution_count": 20
        }
      ]
    },
    {
      "cell_type": "markdown",
      "metadata": {
        "id": "PKDRfFTo3AZi"
      },
      "source": [
        "**Eliminer les features** "
      ]
    },
    {
      "cell_type": "code",
      "metadata": {
        "id": "3xcZUgpn3G_2"
      },
      "source": [
        "def back_feature_elem (data_frame,dep_var,col_list):\n",
        "    while len(col_list)>0 :\n",
        "        model=sm.Logit(dep_var,data_frame[col_list])\n",
        "        result=model.fit(disp=0)\n",
        "        largest_pvalue=round(result.pvalues,3).nlargest(1)\n",
        "        if largest_pvalue[0]<(0.05):\n",
        "            return result\n",
        "            break\n",
        "        else:\n",
        "            col_list=col_list.drop(largest_pvalue.index)\n",
        "\n",
        "result=back_feature_elem(data_heart_constant,data_heart.TenYearCHD,cols)"
      ],
      "execution_count": 21,
      "outputs": []
    },
    {
      "cell_type": "code",
      "metadata": {
        "colab": {
          "base_uri": "https://localhost:8080/",
          "height": 353
        },
        "id": "DCm0OV-23Wmc",
        "outputId": "4d52e208-26dc-48d3-d056-dde826595181"
      },
      "source": [
        "result.summary()"
      ],
      "execution_count": 22,
      "outputs": [
        {
          "output_type": "execute_result",
          "data": {
            "text/html": [
              "<table class=\"simpletable\">\n",
              "<caption>Logit Regression Results</caption>\n",
              "<tr>\n",
              "  <th>Dep. Variable:</th>      <td>TenYearCHD</td>    <th>  No. Observations:  </th>  <td>  3656</td>  \n",
              "</tr>\n",
              "<tr>\n",
              "  <th>Model:</th>                 <td>Logit</td>      <th>  Df Residuals:      </th>  <td>  3649</td>  \n",
              "</tr>\n",
              "<tr>\n",
              "  <th>Method:</th>                 <td>MLE</td>       <th>  Df Model:          </th>  <td>     6</td>  \n",
              "</tr>\n",
              "<tr>\n",
              "  <th>Date:</th>            <td>Wed, 17 Nov 2021</td> <th>  Pseudo R-squ.:     </th>  <td>0.1147</td>  \n",
              "</tr>\n",
              "<tr>\n",
              "  <th>Time:</th>                <td>21:46:34</td>     <th>  Log-Likelihood:    </th> <td> -1381.2</td> \n",
              "</tr>\n",
              "<tr>\n",
              "  <th>converged:</th>             <td>True</td>       <th>  LL-Null:           </th> <td> -1560.3</td> \n",
              "</tr>\n",
              "<tr>\n",
              "  <th>Covariance Type:</th>     <td>nonrobust</td>    <th>  LLR p-value:       </th> <td>2.885e-74</td>\n",
              "</tr>\n",
              "</table>\n",
              "<table class=\"simpletable\">\n",
              "<tr>\n",
              "       <td></td>         <th>coef</th>     <th>std err</th>      <th>z</th>      <th>P>|z|</th>  <th>[0.025</th>    <th>0.975]</th>  \n",
              "</tr>\n",
              "<tr>\n",
              "  <th>const</th>      <td>   -9.1298</td> <td>    0.476</td> <td>  -19.199</td> <td> 0.000</td> <td>  -10.062</td> <td>   -8.198</td>\n",
              "</tr>\n",
              "<tr>\n",
              "  <th>male</th>       <td>    0.5614</td> <td>    0.107</td> <td>    5.255</td> <td> 0.000</td> <td>    0.352</td> <td>    0.771</td>\n",
              "</tr>\n",
              "<tr>\n",
              "  <th>age</th>        <td>    0.0659</td> <td>    0.006</td> <td>   10.254</td> <td> 0.000</td> <td>    0.053</td> <td>    0.078</td>\n",
              "</tr>\n",
              "<tr>\n",
              "  <th>cigsPerDay</th> <td>    0.0192</td> <td>    0.004</td> <td>    4.604</td> <td> 0.000</td> <td>    0.011</td> <td>    0.027</td>\n",
              "</tr>\n",
              "<tr>\n",
              "  <th>totChol</th>    <td>    0.0023</td> <td>    0.001</td> <td>    2.024</td> <td> 0.043</td> <td> 7.16e-05</td> <td>    0.004</td>\n",
              "</tr>\n",
              "<tr>\n",
              "  <th>sysBP</th>      <td>    0.0175</td> <td>    0.002</td> <td>    8.159</td> <td> 0.000</td> <td>    0.013</td> <td>    0.022</td>\n",
              "</tr>\n",
              "<tr>\n",
              "  <th>glucose</th>    <td>    0.0073</td> <td>    0.002</td> <td>    4.342</td> <td> 0.000</td> <td>    0.004</td> <td>    0.011</td>\n",
              "</tr>\n",
              "</table>"
            ],
            "text/plain": [
              "<class 'statsmodels.iolib.summary.Summary'>\n",
              "\"\"\"\n",
              "                           Logit Regression Results                           \n",
              "==============================================================================\n",
              "Dep. Variable:             TenYearCHD   No. Observations:                 3656\n",
              "Model:                          Logit   Df Residuals:                     3649\n",
              "Method:                           MLE   Df Model:                            6\n",
              "Date:                Wed, 17 Nov 2021   Pseudo R-squ.:                  0.1147\n",
              "Time:                        21:46:34   Log-Likelihood:                -1381.2\n",
              "converged:                       True   LL-Null:                       -1560.3\n",
              "Covariance Type:            nonrobust   LLR p-value:                 2.885e-74\n",
              "==============================================================================\n",
              "                 coef    std err          z      P>|z|      [0.025      0.975]\n",
              "------------------------------------------------------------------------------\n",
              "const         -9.1298      0.476    -19.199      0.000     -10.062      -8.198\n",
              "male           0.5614      0.107      5.255      0.000       0.352       0.771\n",
              "age            0.0659      0.006     10.254      0.000       0.053       0.078\n",
              "cigsPerDay     0.0192      0.004      4.604      0.000       0.011       0.027\n",
              "totChol        0.0023      0.001      2.024      0.043    7.16e-05       0.004\n",
              "sysBP          0.0175      0.002      8.159      0.000       0.013       0.022\n",
              "glucose        0.0073      0.002      4.342      0.000       0.004       0.011\n",
              "==============================================================================\n",
              "\"\"\""
            ]
          },
          "metadata": {},
          "execution_count": 22
        }
      ]
    },
    {
      "cell_type": "markdown",
      "metadata": {
        "id": "8AMKi96U3ioT"
      },
      "source": [
        "**calculer odds ratio et p-value** \n"
      ]
    },
    {
      "cell_type": "code",
      "metadata": {
        "colab": {
          "base_uri": "https://localhost:8080/"
        },
        "id": "t-VGO4bu3qRF",
        "outputId": "d8f74841-2037-45f2-d610-7d3caf30402d"
      },
      "source": [
        "params = np.exp(result.params)\n",
        "conf = np.exp(result.conf_int())\n",
        "conf['OR'] = params\n",
        "pvalue=round(result.pvalues,3)\n",
        "conf['pvalue']=pvalue\n",
        "conf.columns = ['CI 95%(2.5%)', 'CI 95%(97.5%)', 'Odds Ratio','pvalue']\n",
        "print ((conf))"
      ],
      "execution_count": 23,
      "outputs": [
        {
          "output_type": "stream",
          "name": "stdout",
          "text": [
            "            CI 95%(2.5%)  CI 95%(97.5%)  Odds Ratio  pvalue\n",
            "const           0.000043       0.000275    0.000108   0.000\n",
            "male            1.421955       2.161623    1.753206   0.000\n",
            "age             1.054747       1.081654    1.068116   0.000\n",
            "cigsPerDay      1.011102       1.027789    1.019412   0.000\n",
            "totChol         1.000072       1.004483    1.002275   0.043\n",
            "sysBP           1.013411       1.021985    1.017689   0.000\n",
            "glucose         1.004002       1.010623    1.007307   0.000\n"
          ]
        }
      ]
    },
    {
      "cell_type": "markdown",
      "metadata": {
        "id": "K0wXiTsk53zi"
      },
      "source": [
        "Fractionnement des données pour former et tester le fractionnement"
      ]
    },
    {
      "cell_type": "code",
      "metadata": {
        "id": "MTnqvuZQ3wn-"
      },
      "source": [
        "new_features=data_heart[['age','male','cigsPerDay','totChol','sysBP','glucose','TenYearCHD']]\n",
        "x=new_features.iloc[:,:-1]\n",
        "y=new_features.iloc[:,-1]\n",
        "\n",
        "x_train,x_test,y_train,y_test=train_test_split(x,y,test_size=.20,random_state=5)"
      ],
      "execution_count": 27,
      "outputs": []
    },
    {
      "cell_type": "code",
      "metadata": {
        "colab": {
          "base_uri": "https://localhost:8080/"
        },
        "id": "hIEZigjt5yRe",
        "outputId": "e9cfc5bb-b40c-4751-d8a0-f5206cfb31cf"
      },
      "source": [
        "print ('Train set:', x_train.shape,  y_train.shape)\n",
        "print ('Test set:', x_test.shape,  y_test.shape)"
      ],
      "execution_count": 28,
      "outputs": [
        {
          "output_type": "stream",
          "name": "stdout",
          "text": [
            "Train set: (2924, 6) (2924,)\n",
            "Test set: (732, 6) (732,)\n"
          ]
        }
      ]
    },
    {
      "cell_type": "markdown",
      "metadata": {
        "id": "rU931P_O6Px8"
      },
      "source": [
        "**appliquer la regression**"
      ]
    },
    {
      "cell_type": "code",
      "metadata": {
        "id": "oSOvQvIw514I"
      },
      "source": [
        "logreg=LogisticRegression()\n",
        "logreg.fit(x_train,y_train)\n",
        "y_pred=logreg.predict(x_test)"
      ],
      "execution_count": 30,
      "outputs": []
    },
    {
      "cell_type": "code",
      "metadata": {
        "colab": {
          "base_uri": "https://localhost:8080/"
        },
        "id": "k9ZCnwg-6zp9",
        "outputId": "c8ef917b-473a-4e70-d39c-0e27fe04398d"
      },
      "source": [
        "sklearn.metrics.accuracy_score(y_test,y_pred)"
      ],
      "execution_count": 31,
      "outputs": [
        {
          "output_type": "execute_result",
          "data": {
            "text/plain": [
              "0.8633879781420765"
            ]
          },
          "metadata": {},
          "execution_count": 31
        }
      ]
    },
    {
      "cell_type": "code",
      "metadata": {
        "id": "MjA372F_64jd"
      },
      "source": [
        ""
      ],
      "execution_count": null,
      "outputs": []
    }
  ]
}